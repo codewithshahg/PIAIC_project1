{
  "nbformat": 4,
  "nbformat_minor": 0,
  "metadata": {
    "colab": {
      "provenance": [],
      "authorship_tag": "ABX9TyMkKBBp1CMLJSmyBRSZL3G4",
      "include_colab_link": true
    },
    "kernelspec": {
      "name": "python3",
      "display_name": "Python 3"
    },
    "language_info": {
      "name": "python"
    }
  },
  "cells": [
    {
      "cell_type": "markdown",
      "metadata": {
        "id": "view-in-github",
        "colab_type": "text"
      },
      "source": [
        "<a href=\"https://colab.research.google.com/github/codewithshahg/PIAIC_project1/blob/main/Project1_Hllo_world.ipynb\" target=\"_parent\"><img src=\"https://colab.research.google.com/assets/colab-badge.svg\" alt=\"Open In Colab\"/></a>"
      ]
    },
    {
      "cell_type": "markdown",
      "source": [],
      "metadata": {
        "id": "LFkxw7CI0Xk8"
      }
    },
    {
      "cell_type": "code",
      "source": [
        "!pip install -Uq  langchain langchain_google_genai"
      ],
      "metadata": {
        "id": "CZ9MRPf2Hi4Q"
      },
      "execution_count": 16,
      "outputs": []
    },
    {
      "cell_type": "code",
      "source": [
        "from langchain_google_genai import ChatGoogleGenerativeAI\n",
        "from google.colab import userdata\n",
        "\n"
      ],
      "metadata": {
        "id": "MCD2NwDl0cTn"
      },
      "execution_count": 17,
      "outputs": []
    },
    {
      "cell_type": "code",
      "source": [
        "llm = ChatGoogleGenerativeAI(\n",
        "    model=\"gemini-2.0-flash-exp\",\n",
        "    api_key=userdata.get('GOOGLE_API_KEY'),\n",
        "    temperature=0.7,\n",
        "    max_tokens=100\n",
        ")"
      ],
      "metadata": {
        "id": "Prji1t0zPX9D"
      },
      "execution_count": 18,
      "outputs": []
    },
    {
      "cell_type": "code",
      "source": [
        "response = llm.invoke(\"What is ML?\")\n",
        "print(response.content)"
      ],
      "metadata": {
        "colab": {
          "base_uri": "https://localhost:8080/"
        },
        "id": "8mav8X8DQFJF",
        "outputId": "b20a60da-383a-4f3b-b368-4917203615a3"
      },
      "execution_count": 19,
      "outputs": [
        {
          "output_type": "stream",
          "name": "stdout",
          "text": [
            "ML stands for **Machine Learning**. It's a subfield of Artificial Intelligence (AI) that focuses on enabling computer systems to learn from data without being explicitly programmed. Instead of relying on hard-coded rules, ML algorithms identify patterns and make predictions or decisions based on the data they are exposed to.\n",
            "\n",
            "Here's a breakdown of key aspects of Machine Learning:\n",
            "\n",
            "**Core Idea:**\n",
            "\n",
            "* **Learning from Data:** ML algorithms learn by analyzing large datasets. This data can be structured (\n"
          ]
        }
      ]
    }
  ]
}